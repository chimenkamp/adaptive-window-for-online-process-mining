{
 "cells": [
  {
   "cell_type": "code",
   "id": "initial_id",
   "metadata": {
    "collapsed": true,
    "ExecuteTime": {
     "end_time": "2024-12-06T09:41:42.462921Z",
     "start_time": "2024-12-06T09:41:42.452889Z"
    }
   },
   "source": [
    "import pandas as pd\n",
    "\n",
    "sepsis: pd.DataFrame = pd.read_csv(\"countbase_sepsis.csv\")\n",
    "\n",
    "print(sepsis[\"F1-Score\"].mean())\n",
    "\n",
    "print(sepsis[\"F1-Score\"].min())\n",
    "\n",
    "print(sepsis[\"F1-Score\"].max())\n"
   ],
   "outputs": [
    {
     "name": "stdout",
     "output_type": "stream",
     "text": [
      "0.6100951099072702\n",
      "0.3375386936540789\n",
      "0.8170512733988766\n"
     ]
    }
   ],
   "execution_count": 9
  },
  {
   "metadata": {},
   "cell_type": "code",
   "outputs": [],
   "execution_count": null,
   "source": "",
   "id": "a552f193f67b6a18"
  }
 ],
 "metadata": {
  "kernelspec": {
   "display_name": "Python 3",
   "language": "python",
   "name": "python3"
  },
  "language_info": {
   "codemirror_mode": {
    "name": "ipython",
    "version": 2
   },
   "file_extension": ".py",
   "mimetype": "text/x-python",
   "name": "python",
   "nbconvert_exporter": "python",
   "pygments_lexer": "ipython2",
   "version": "2.7.6"
  }
 },
 "nbformat": 4,
 "nbformat_minor": 5
}
