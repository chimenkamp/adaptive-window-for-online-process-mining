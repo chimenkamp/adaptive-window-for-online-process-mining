{
 "cells": [
  {
   "metadata": {
    "ExecuteTime": {
     "end_time": "2024-10-11T07:06:27.222660Z",
     "start_time": "2024-10-11T07:06:16.366896Z"
    }
   },
   "cell_type": "code",
   "source": [
    "import pm4py\n",
    "\n",
    "LOG_PATHS = [\"/Users/christianimenkamp/Documents/Data-Repository/Concept Drifts/gradual[0.3-0.6]_5000_traces.xes\",\n",
    "\"/Users/christianimenkamp/Documents/Data-Repository/Concept Drifts/recurring[3Changes_].xes\",\n",
    "\"/Users/christianimenkamp/Documents/Data-Repository/Concept Drifts/incremental[5].xes\",\n",
    "\"/Users/christianimenkamp/Documents/Data-Repository/Concept Drifts/Synthetic/cm-10000.xes\",\n",
    "\"/Users/christianimenkamp/Documents/Data-Repository/Concept Drifts/Synthetic/cd-10000.xes\",\n",
    "\"/Users/christianimenkamp/Documents/Data-Repository/Concept Drifts/Synthetic/cb-10000.xes\"]\n",
    "\n",
    "for path in LOG_PATHS:\n",
    "    print(\"Reading \" + path.split(\"/\")[-1])\n",
    "    log = pm4py.read_xes(path)\n",
    "    # Calculate mean trace length\n",
    "    trace_lengths = log.groupby(\"case:concept:name\").size()\n",
    "    \n",
    "    # Calculate the mean trace length\n",
    "    mean_trace_length = trace_lengths.mean()\n",
    "    # Calculate event length\n",
    "    event_len = len(log)\n",
    "    print(path.split(\"/\")[-1] + \" has a mean trace length of \" + str(mean_trace_length) + \" and a total event length of \" + str(event_len))\n",
    "    "
   ],
   "id": "initial_id",
   "outputs": [
    {
     "name": "stdout",
     "output_type": "stream",
     "text": [
      "Reading gradual[0.3-0.6]_5000_traces.xes\n"
     ]
    },
    {
     "data": {
      "text/plain": [
       "parsing log, completed traces ::   0%|          | 0/5000 [00:00<?, ?it/s]"
      ],
      "application/vnd.jupyter.widget-view+json": {
       "version_major": 2,
       "version_minor": 0,
       "model_id": "faff7e71243149169d2a9efd8240ef0a"
      }
     },
     "metadata": {},
     "output_type": "display_data"
    },
    {
     "name": "stderr",
     "output_type": "stream",
     "text": [
      "/Users/christianimenkamp/Documents/Git-Repositorys/Event Stream Window - Completeness/venv/lib/python3.11/site-packages/pm4py/objects/log/util/dataframe_utils.py:176: UserWarning: Could not infer format, so each element will be parsed individually, falling back to `dateutil`. To ensure parsing is consistent and as-expected, please specify a format.\n",
      "  df[col] = pd.to_datetime(df[col], utc=True)\n",
      "/Users/christianimenkamp/Documents/Git-Repositorys/Event Stream Window - Completeness/venv/lib/python3.11/site-packages/pm4py/objects/log/util/dataframe_utils.py:176: UserWarning: Could not infer format, so each element will be parsed individually, falling back to `dateutil`. To ensure parsing is consistent and as-expected, please specify a format.\n",
      "  df[col] = pd.to_datetime(df[col], utc=True)\n"
     ]
    },
    {
     "name": "stdout",
     "output_type": "stream",
     "text": [
      "gradual[0.3-0.6]_5000_traces.xes has a mean trace length of 9.6406 and a total event length of 48203\n",
      "Reading recurring[3Changes_].xes\n"
     ]
    },
    {
     "data": {
      "text/plain": [
       "parsing log, completed traces ::   0%|          | 0/5000 [00:00<?, ?it/s]"
      ],
      "application/vnd.jupyter.widget-view+json": {
       "version_major": 2,
       "version_minor": 0,
       "model_id": "80761d4de7344aa6b728a6f954e68384"
      }
     },
     "metadata": {},
     "output_type": "display_data"
    },
    {
     "name": "stderr",
     "output_type": "stream",
     "text": [
      "/Users/christianimenkamp/Documents/Git-Repositorys/Event Stream Window - Completeness/venv/lib/python3.11/site-packages/pm4py/objects/log/util/dataframe_utils.py:176: UserWarning: Could not infer format, so each element will be parsed individually, falling back to `dateutil`. To ensure parsing is consistent and as-expected, please specify a format.\n",
      "  df[col] = pd.to_datetime(df[col], utc=True)\n",
      "/Users/christianimenkamp/Documents/Git-Repositorys/Event Stream Window - Completeness/venv/lib/python3.11/site-packages/pm4py/objects/log/util/dataframe_utils.py:176: UserWarning: Could not infer format, so each element will be parsed individually, falling back to `dateutil`. To ensure parsing is consistent and as-expected, please specify a format.\n",
      "  df[col] = pd.to_datetime(df[col], utc=True)\n"
     ]
    },
    {
     "name": "stdout",
     "output_type": "stream",
     "text": [
      "recurring[3Changes_].xes has a mean trace length of 12.3072 and a total event length of 61536\n",
      "Reading incremental[5].xes\n"
     ]
    },
    {
     "data": {
      "text/plain": [
       "parsing log, completed traces ::   0%|          | 0/7000 [00:00<?, ?it/s]"
      ],
      "application/vnd.jupyter.widget-view+json": {
       "version_major": 2,
       "version_minor": 0,
       "model_id": "adb5328b50fa4cb8b151b756f98cd164"
      }
     },
     "metadata": {},
     "output_type": "display_data"
    },
    {
     "name": "stderr",
     "output_type": "stream",
     "text": [
      "/Users/christianimenkamp/Documents/Git-Repositorys/Event Stream Window - Completeness/venv/lib/python3.11/site-packages/pm4py/objects/log/util/dataframe_utils.py:176: UserWarning: Could not infer format, so each element will be parsed individually, falling back to `dateutil`. To ensure parsing is consistent and as-expected, please specify a format.\n",
      "  df[col] = pd.to_datetime(df[col], utc=True)\n",
      "/Users/christianimenkamp/Documents/Git-Repositorys/Event Stream Window - Completeness/venv/lib/python3.11/site-packages/pm4py/objects/log/util/dataframe_utils.py:176: UserWarning: Could not infer format, so each element will be parsed individually, falling back to `dateutil`. To ensure parsing is consistent and as-expected, please specify a format.\n",
      "  df[col] = pd.to_datetime(df[col], utc=True)\n"
     ]
    },
    {
     "name": "stdout",
     "output_type": "stream",
     "text": [
      "incremental[5].xes has a mean trace length of 11.372571428571428 and a total event length of 79608\n",
      "Reading cm-10000.xes\n"
     ]
    },
    {
     "data": {
      "text/plain": [
       "parsing log, completed traces ::   0%|          | 0/10000 [00:00<?, ?it/s]"
      ],
      "application/vnd.jupyter.widget-view+json": {
       "version_major": 2,
       "version_minor": 0,
       "model_id": "9a368845283444b7a7388ecc524822d3"
      }
     },
     "metadata": {},
     "output_type": "display_data"
    },
    {
     "name": "stderr",
     "output_type": "stream",
     "text": [
      "/Users/christianimenkamp/Documents/Git-Repositorys/Event Stream Window - Completeness/venv/lib/python3.11/site-packages/pm4py/objects/log/util/dataframe_utils.py:176: UserWarning: Could not infer format, so each element will be parsed individually, falling back to `dateutil`. To ensure parsing is consistent and as-expected, please specify a format.\n",
      "  df[col] = pd.to_datetime(df[col], utc=True)\n",
      "/Users/christianimenkamp/Documents/Git-Repositorys/Event Stream Window - Completeness/venv/lib/python3.11/site-packages/pm4py/objects/log/util/dataframe_utils.py:176: UserWarning: Could not infer format, so each element will be parsed individually, falling back to `dateutil`. To ensure parsing is consistent and as-expected, please specify a format.\n",
      "  df[col] = pd.to_datetime(df[col], utc=True)\n"
     ]
    },
    {
     "name": "stdout",
     "output_type": "stream",
     "text": [
      "cm-10000.xes has a mean trace length of 25.0826 and a total event length of 125413\n",
      "Reading cd-10000.xes\n"
     ]
    },
    {
     "data": {
      "text/plain": [
       "parsing log, completed traces ::   0%|          | 0/10000 [00:00<?, ?it/s]"
      ],
      "application/vnd.jupyter.widget-view+json": {
       "version_major": 2,
       "version_minor": 0,
       "model_id": "2c619ee45c1048778200b7ae8a391444"
      }
     },
     "metadata": {},
     "output_type": "display_data"
    },
    {
     "name": "stderr",
     "output_type": "stream",
     "text": [
      "/Users/christianimenkamp/Documents/Git-Repositorys/Event Stream Window - Completeness/venv/lib/python3.11/site-packages/pm4py/objects/log/util/dataframe_utils.py:176: UserWarning: Could not infer format, so each element will be parsed individually, falling back to `dateutil`. To ensure parsing is consistent and as-expected, please specify a format.\n",
      "  df[col] = pd.to_datetime(df[col], utc=True)\n",
      "/Users/christianimenkamp/Documents/Git-Repositorys/Event Stream Window - Completeness/venv/lib/python3.11/site-packages/pm4py/objects/log/util/dataframe_utils.py:176: UserWarning: Could not infer format, so each element will be parsed individually, falling back to `dateutil`. To ensure parsing is consistent and as-expected, please specify a format.\n",
      "  df[col] = pd.to_datetime(df[col], utc=True)\n"
     ]
    },
    {
     "name": "stdout",
     "output_type": "stream",
     "text": [
      "cd-10000.xes has a mean trace length of 25.5242 and a total event length of 127621\n",
      "Reading cb-10000.xes\n"
     ]
    },
    {
     "data": {
      "text/plain": [
       "parsing log, completed traces ::   0%|          | 0/10000 [00:00<?, ?it/s]"
      ],
      "application/vnd.jupyter.widget-view+json": {
       "version_major": 2,
       "version_minor": 0,
       "model_id": "3b5c2541f0b24374b07ebe704ae385c1"
      }
     },
     "metadata": {},
     "output_type": "display_data"
    },
    {
     "name": "stdout",
     "output_type": "stream",
     "text": [
      "cb-10000.xes has a mean trace length of 25.0894 and a total event length of 125447\n"
     ]
    },
    {
     "name": "stderr",
     "output_type": "stream",
     "text": [
      "/Users/christianimenkamp/Documents/Git-Repositorys/Event Stream Window - Completeness/venv/lib/python3.11/site-packages/pm4py/objects/log/util/dataframe_utils.py:176: UserWarning: Could not infer format, so each element will be parsed individually, falling back to `dateutil`. To ensure parsing is consistent and as-expected, please specify a format.\n",
      "  df[col] = pd.to_datetime(df[col], utc=True)\n",
      "/Users/christianimenkamp/Documents/Git-Repositorys/Event Stream Window - Completeness/venv/lib/python3.11/site-packages/pm4py/objects/log/util/dataframe_utils.py:176: UserWarning: Could not infer format, so each element will be parsed individually, falling back to `dateutil`. To ensure parsing is consistent and as-expected, please specify a format.\n",
      "  df[col] = pd.to_datetime(df[col], utc=True)\n"
     ]
    }
   ],
   "execution_count": 7
  },
  {
   "metadata": {
    "ExecuteTime": {
     "end_time": "2024-10-11T07:06:27.225074Z",
     "start_time": "2024-10-11T07:06:27.223781Z"
    }
   },
   "cell_type": "code",
   "source": "",
   "id": "8fc9aeb092d25084",
   "outputs": [],
   "execution_count": 7
  }
 ],
 "metadata": {
  "kernelspec": {
   "display_name": "Python 3",
   "language": "python",
   "name": "python3"
  },
  "language_info": {
   "codemirror_mode": {
    "name": "ipython",
    "version": 2
   },
   "file_extension": ".py",
   "mimetype": "text/x-python",
   "name": "python",
   "nbconvert_exporter": "python",
   "pygments_lexer": "ipython2",
   "version": "2.7.6"
  }
 },
 "nbformat": 4,
 "nbformat_minor": 5
}
